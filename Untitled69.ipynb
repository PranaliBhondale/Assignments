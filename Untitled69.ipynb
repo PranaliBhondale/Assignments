{
 "cells": [
  {
   "cell_type": "markdown",
   "id": "34beaedb",
   "metadata": {},
   "source": [
    "1)\n",
    "\n",
    "*  ---> mathematcal expression\n",
    "\"hello\" --->  string\n",
    "-87.8 --->  integer\n",
    "-  --->  mathematcal expression\n",
    "/  --->  mathematcal expression\n",
    "+  ---> mathematcal expression  \n",
    "6 ---> integer"
   ]
  },
  {
   "cell_type": "markdown",
   "id": "528cd6fd",
   "metadata": {},
   "source": [
    "2)\n",
    "A Variable is a store of information  and a String is a type of information you would store in a Variable"
   ]
  },
  {
   "cell_type": "markdown",
   "id": "868da45d",
   "metadata": {},
   "source": [
    "3)\n",
    "\n",
    "Data Types:\n",
    "1. Integer - Whole numbers - 7, 12, 999\n",
    "2. loat (floating point) - Number with a decimal point - 3.15, 9.06, 00.13\n",
    "3. Boolean - Representing logical values - TRUE, FALSE\n"
   ]
  },
  {
   "cell_type": "markdown",
   "id": "e711f07d",
   "metadata": {},
   "source": [
    "4)\n",
    "An expression is a construct made up of variables, operators, and method invocations, \n",
    "which are constructed according to the syntax of the language, \n",
    "that evaluates to a single value.\n",
    "\n",
    "\n"
   ]
  },
  {
   "cell_type": "markdown",
   "id": "9768467e",
   "metadata": {},
   "source": [
    "5)\n",
    "\n",
    "Statements represent an action or command e.g print statements,\n",
    "assignment statements. Expression is a combination of variables, \n",
    "operations and values that yields a result value."
   ]
  },
  {
   "cell_type": "code",
   "execution_count": 10,
   "id": "9ebfc449",
   "metadata": {},
   "outputs": [
    {
     "data": {
      "text/plain": [
       "23"
      ]
     },
     "execution_count": 10,
     "metadata": {},
     "output_type": "execute_result"
    }
   ],
   "source": [
    "#6\n",
    "\n",
    "Bacon = 22\n",
    "Bacon + 1"
   ]
  },
  {
   "cell_type": "code",
   "execution_count": 11,
   "id": "e30ba9ee",
   "metadata": {},
   "outputs": [
    {
     "data": {
      "text/plain": [
       "'spamspamspam'"
      ]
     },
     "execution_count": 11,
     "metadata": {},
     "output_type": "execute_result"
    }
   ],
   "source": [
    "#7\n",
    "'spam' + 'spamspam'"
   ]
  },
  {
   "cell_type": "code",
   "execution_count": 4,
   "id": "b2f46280",
   "metadata": {},
   "outputs": [
    {
     "data": {
      "text/plain": [
       "'spamspamspam'"
      ]
     },
     "execution_count": 4,
     "metadata": {},
     "output_type": "execute_result"
    }
   ],
   "source": [
    "'spam'*3"
   ]
  },
  {
   "cell_type": "markdown",
   "id": "d1f86aa8",
   "metadata": {},
   "source": [
    "8)\n",
    "\n",
    "Why is eggs a valid variable name while 100 is invalid? Variable names cannot begin with a number."
   ]
  },
  {
   "cell_type": "markdown",
   "id": "4c06529d",
   "metadata": {},
   "source": [
    "9)\n",
    "\n",
    "The int() , float() , and str( ) functions will evaluate to the integer,\n",
    "floating-point number, and string versions of the value passed to them."
   ]
  },
  {
   "cell_type": "code",
   "execution_count": null,
   "id": "3faaa0d3",
   "metadata": {},
   "outputs": [],
   "source": [
    "#10\n",
    "\n",
    "\"I have eaten \" + 99 + 'burritos'\n",
    "# this expression giving an error because we can't concatinate integer and string,. \n",
    "#The concatinate function only works on two sequences of the same type, i.e. two strings or two integer"
   ]
  },
  {
   "cell_type": "code",
   "execution_count": null,
   "id": "f907e44f",
   "metadata": {},
   "outputs": [],
   "source": []
  }
 ],
 "metadata": {
  "kernelspec": {
   "display_name": "Python 3",
   "language": "python",
   "name": "python3"
  },
  "language_info": {
   "codemirror_mode": {
    "name": "ipython",
    "version": 3
   },
   "file_extension": ".py",
   "mimetype": "text/x-python",
   "name": "python",
   "nbconvert_exporter": "python",
   "pygments_lexer": "ipython3",
   "version": "3.8.8"
  }
 },
 "nbformat": 4,
 "nbformat_minor": 5
}
